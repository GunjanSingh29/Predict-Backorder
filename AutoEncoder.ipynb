{
  "cells": [
    {
      "cell_type": "code",
      "execution_count": 1,
      "metadata": {
        "id": "q14icMU1ftHh"
      },
      "outputs": [],
      "source": [
        "import pandas as pd\n",
        "import numpy as np\n",
        "import matplotlib.pyplot as plt\n",
        "import seaborn as sns\n",
        "from sklearn.impute import SimpleImputer\n",
        "import time, sys\n",
        "import warnings\n",
        "warnings.filterwarnings('ignore')"
      ]
    },
    {
      "cell_type": "code",
      "execution_count": 2,
      "metadata": {
        "id": "3zen6XIvfuqe"
      },
      "outputs": [],
      "source": [
        "train = pd.read_csv(\"/content/drive/MyDrive/MasterDataset/Backorder/Backorder_Training_Dataset.csv\")\n",
        "test = pd.read_csv(\"/content/drive/MyDrive/MasterDataset/Backorder/Backorder_Test_Dataset.csv\")"
      ]
    },
    {
      "cell_type": "code",
      "source": [
        "finaltest = pd.read_csv(\"/content/drive/MyDrive/MasterDataset/Backorder/AutoencoderTest.csv\")"
      ],
      "metadata": {
        "id": "bF5MVqgrlp7n"
      },
      "execution_count": 3,
      "outputs": []
    },
    {
      "cell_type": "code",
      "execution_count": 4,
      "metadata": {
        "colab": {
          "base_uri": "https://localhost:8080/"
        },
        "id": "LO1w31A7f5Sk",
        "outputId": "4948cbcb-2d96-4e78-a43c-ff8407296918"
      },
      "outputs": [
        {
          "output_type": "stream",
          "name": "stdout",
          "text": [
            "Train Data : (1687861, 23)\n",
            "Test Data : (242076, 23)\n"
          ]
        }
      ],
      "source": [
        "#Preview Data\n",
        "print(\"Train Data :\",train.shape)\n",
        "print(\"Test Data :\",test.shape)"
      ]
    },
    {
      "cell_type": "code",
      "execution_count": 5,
      "metadata": {
        "id": "SgKTGG4-f5Vo"
      },
      "outputs": [],
      "source": [
        "train.drop(columns='sku', inplace=True)\n",
        "test.drop(columns='sku', inplace=True)\n"
      ]
    },
    {
      "cell_type": "code",
      "execution_count": 6,
      "metadata": {
        "id": "Mwx11844f5Yc"
      },
      "outputs": [],
      "source": [
        "train.drop(index=train.shape[0]-1, axis=0, inplace=True)\n",
        "test.drop(index=test.shape[0]-1, axis=0, inplace=True)"
      ]
    },
    {
      "cell_type": "code",
      "execution_count": 7,
      "metadata": {
        "id": "4bVY3OX6g9vU"
      },
      "outputs": [],
      "source": [
        " train['lead_time'] = SimpleImputer(strategy=\"mean\").fit_transform(train['lead_time'].values.reshape(-1, 1))\n",
        " test['lead_time'] = SimpleImputer(strategy=\"mean\").fit_transform(test['lead_time'].values.reshape(-1, 1))"
      ]
    },
    {
      "cell_type": "code",
      "source": [
        "train['perf_12_month_avg']=train['perf_12_month_avg'].replace(-99, np.nan)\n",
        "train['perf_6_month_avg']=train['perf_6_month_avg'].replace(-99, np.nan)\n",
        "train['perf_12_month_avg'] = train['perf_12_month_avg'].fillna(train.perf_12_month_avg.median())\n",
        "train['perf_6_month_avg'] = train['perf_6_month_avg'].fillna(train.perf_6_month_avg.median())\n",
        "\n",
        "\n",
        "test['perf_12_month_avg']=test['perf_12_month_avg'].replace(-99, np.nan)\n",
        "test['perf_6_month_avg']=test['perf_6_month_avg'].replace(-99, np.nan)\n",
        "test['perf_12_month_avg'] = test['perf_12_month_avg'].fillna(test.perf_12_month_avg.median())\n",
        "test['perf_6_month_avg'] = test['perf_6_month_avg'].fillna(test.perf_6_month_avg.median())"
      ],
      "metadata": {
        "id": "dBeJwYG2f-hh"
      },
      "execution_count": 8,
      "outputs": []
    },
    {
      "cell_type": "code",
      "execution_count": 9,
      "metadata": {
        "id": "5Adl7JPxf5ba"
      },
      "outputs": [],
      "source": [
        "for col in ['potential_issue',\n",
        "            'deck_risk',\n",
        "            'oe_constraint',\n",
        "            'ppap_risk',\n",
        "            'stop_auto_buy',\n",
        "            'rev_stop',\n",
        "            'went_on_backorder']:    \n",
        "    train[col]=pd.factorize(train[col])[0]"
      ]
    },
    {
      "cell_type": "code",
      "execution_count": 10,
      "metadata": {
        "id": "pqqtkGMqgrtO"
      },
      "outputs": [],
      "source": [
        "for col in ['potential_issue',\n",
        "            'deck_risk',\n",
        "            'oe_constraint',\n",
        "            'ppap_risk',\n",
        "            'stop_auto_buy',\n",
        "            'rev_stop',\n",
        "            'went_on_backorder']:    \n",
        "    test[col]=pd.factorize(test[col])[0]"
      ]
    },
    {
      "cell_type": "code",
      "source": [
        "X_test = test.drop(columns=['went_on_backorder'], axis=1)\n",
        "y_test = test.went_on_backorder\n"
      ],
      "metadata": {
        "id": "votEvqoT8jA4"
      },
      "execution_count": 11,
      "outputs": []
    },
    {
      "cell_type": "code",
      "execution_count": 12,
      "metadata": {
        "colab": {
          "base_uri": "https://localhost:8080/"
        },
        "id": "qd-prG2ggrwl",
        "outputId": "dcf5e888-87f1-48c6-980d-351021130c39"
      },
      "outputs": [
        {
          "output_type": "execute_result",
          "data": {
            "text/plain": [
              "0"
            ]
          },
          "metadata": {},
          "execution_count": 12
        }
      ],
      "source": [
        "train.isnull().values.sum()"
      ]
    },
    {
      "cell_type": "code",
      "source": [
        "train.shape"
      ],
      "metadata": {
        "colab": {
          "base_uri": "https://localhost:8080/"
        },
        "id": "4riq7kWUm1hn",
        "outputId": "925d53ad-bcc4-4afc-ef7c-a0b6d9c9ec50"
      },
      "execution_count": 13,
      "outputs": [
        {
          "output_type": "execute_result",
          "data": {
            "text/plain": [
              "(1687860, 22)"
            ]
          },
          "metadata": {},
          "execution_count": 13
        }
      ]
    },
    {
      "cell_type": "code",
      "execution_count": 14,
      "metadata": {
        "colab": {
          "base_uri": "https://localhost:8080/",
          "height": 590
        },
        "id": "ZH2MS4tigrzV",
        "outputId": "8f51dc06-db6e-44bf-b074-6d8584253044"
      },
      "outputs": [
        {
          "output_type": "display_data",
          "data": {
            "text/plain": [
              "<Figure size 1008x576 with 1 Axes>"
            ],
            "image/png": "[encoded data removed]"
          },
          "metadata": {}
        },
        {
          "output_type": "stream",
          "name": "stdout",
          "text": [
            " Target Result \n",
            " 0    1676567\n",
            "1      11293\n",
            "Name: went_on_backorder, dtype: int64 \n",
            "\n",
            "\n"
          ]
        }
      ],
      "source": [
        "# Plot\n",
        "\n",
        "plt.figure(figsize=(14,8))\n",
        "plt.rc('font', size=14)          # controls default text sizes\n",
        "train['went_on_backorder'].value_counts().plot(kind = 'pie',autopct='%1.2f%%')\n",
        "plt.axis('equal')\n",
        "plt.title(\"Only 0.72% records are belong to Yes\")\n",
        "plt.show()\n",
        "print(\" Target Result \\n\",train['went_on_backorder'].value_counts(),\"\\n\\n\")"
      ]
    },
    {
      "cell_type": "code",
      "execution_count": 15,
      "metadata": {
        "colab": {
          "base_uri": "https://localhost:8080/"
        },
        "id": "l7jRDTbImguQ",
        "outputId": "0023ee8a-a632-4dd8-dcef-70e9f257ee56"
      },
      "outputs": [
        {
          "output_type": "stream",
          "name": "stdout",
          "text": [
            "Looking in indexes: https://pypi.org/simple, https://us-python.pkg.dev/colab-wheels/public/simple/\n",
            "Collecting h2o\n",
            "  Downloading h2o-3.36.1.2.tar.gz (177.0 MB)\n",
            "\u001b[K     |████████████████████████████████| 177.0 MB 47 kB/s \n",
            "\u001b[?25hRequirement already satisfied: requests in /usr/local/lib/python3.7/dist-packages (from h2o) (2.23.0)\n",
            "Requirement already satisfied: tabulate in /usr/local/lib/python3.7/dist-packages (from h2o) (0.8.9)\n",
            "Requirement already satisfied: future in /usr/local/lib/python3.7/dist-packages (from h2o) (0.16.0)\n",
            "Requirement already satisfied: chardet<4,>=3.0.2 in /usr/local/lib/python3.7/dist-packages (from requests->h2o) (3.0.4)\n",
            "Requirement already satisfied: urllib3!=1.25.0,!=1.25.1,<1.26,>=1.21.1 in /usr/local/lib/python3.7/dist-packages (from requests->h2o) (1.24.3)\n",
            "Requirement already satisfied: idna<3,>=2.5 in /usr/local/lib/python3.7/dist-packages (from requests->h2o) (2.10)\n",
            "Requirement already satisfied: certifi>=2017.4.17 in /usr/local/lib/python3.7/dist-packages (from requests->h2o) (2022.5.18.1)\n",
            "Building wheels for collected packages: h2o\n",
            "  Building wheel for h2o (setup.py) ... \u001b[?25l\u001b[?25hdone\n",
            "  Created wheel for h2o: filename=h2o-3.36.1.2-py2.py3-none-any.whl size=177070945 sha256=4004b056d509b5cd1019dccf984437565b6aefa380ffb1c7375e820f11d159d1\n",
            "  Stored in directory: /root/.cache/pip/wheels/a5/2b/ae/534595df09001e1573b1046be62a3f049507307340119db65c\n",
            "Successfully built h2o\n",
            "Installing collected packages: h2o\n",
            "Successfully installed h2o-3.36.1.2\n"
          ]
        }
      ],
      "source": [
        "### install h20 framework\n",
        "!pip install h2o"
      ]
    },
    {
      "cell_type": "code",
      "execution_count": 16,
      "metadata": {
        "id": "6xxtBIPWiWyT"
      },
      "outputs": [],
      "source": [
        "import h2o\n",
        "from h2o.estimators.deeplearning import H2OAutoEncoderEstimator"
      ]
    },
    {
      "cell_type": "code",
      "execution_count": 17,
      "metadata": {
        "colab": {
          "base_uri": "https://localhost:8080/",
          "height": 509
        },
        "id": "nrTjhUoriW1L",
        "outputId": "16cf5b47-627c-417b-ca63-b4e457734a3c"
      },
      "outputs": [
        {
          "output_type": "stream",
          "name": "stdout",
          "text": [
            "Checking whether there is an H2O instance running at http://localhost:54321 ..... not found.\n",
            "Attempting to start a local H2O server...\n",
            "  Java Version: openjdk version \"11.0.15\" 2022-04-19; OpenJDK Runtime Environment (build 11.0.15+10-Ubuntu-0ubuntu0.18.04.1); OpenJDK 64-Bit Server VM (build 11.0.15+10-Ubuntu-0ubuntu0.18.04.1, mixed mode, sharing)\n",
            "  Starting server from /usr/local/lib/python3.7/dist-packages/h2o/backend/bin/h2o.jar\n",
            "  Ice root: /tmp/tmpq1nhx5ik\n",
            "  JVM stdout: /tmp/tmpq1nhx5ik/h2o_unknownUser_started_from_python.out\n",
            "  JVM stderr: /tmp/tmpq1nhx5ik/h2o_unknownUser_started_from_python.err\n",
            "  Server is running at http://127.0.0.1:54321\n",
            "Connecting to H2O server at http://127.0.0.1:54321 ... successful.\n"
          ]
        },
        {
          "output_type": "display_data",
          "data": {
            "text/plain": [
              "--------------------------  ----------------------------------\n",
              "H2O_cluster_uptime:         04 secs\n",
              "H2O_cluster_timezone:       Etc/UTC\n",
              "H2O_data_parsing_timezone:  UTC\n",
              "H2O_cluster_version:        3.36.1.2\n",
              "H2O_cluster_version_age:    21 hours and 30 minutes\n",
              "H2O_cluster_name:           H2O_from_python_unknownUser_ikp9zc\n",
              "H2O_cluster_total_nodes:    1\n",
              "H2O_cluster_free_memory:    3.172 Gb\n",
              "H2O_cluster_total_cores:    2\n",
              "H2O_cluster_allowed_cores:  2\n",
              "H2O_cluster_status:         locked, healthy\n",
              "H2O_connection_url:         http://127.0.0.1:54321\n",
              "H2O_connection_proxy:       {\"http\": null, \"https\": null}\n",
              "H2O_internal_security:      False\n",
              "Python_version:             3.7.13 final\n",
              "--------------------------  ----------------------------------"
            ],
            "text/html": [
              "<div style=\"overflow:auto\"><table style=\"width:50%\"><tr><td>H2O_cluster_uptime:</td>\n",
              "<td>04 secs</td></tr>\n",
              "<tr><td>H2O_cluster_timezone:</td>\n",
              "<td>Etc/UTC</td></tr>\n",
              "<tr><td>H2O_data_parsing_timezone:</td>\n",
              "<td>UTC</td></tr>\n",
              "<tr><td>H2O_cluster_version:</td>\n",
              "<td>3.36.1.2</td></tr>\n",
              "<tr><td>H2O_cluster_version_age:</td>\n",
              "<td>21 hours and 30 minutes </td></tr>\n",
              "<tr><td>H2O_cluster_name:</td>\n",
              "<td>H2O_from_python_unknownUser_ikp9zc</td></tr>\n",
              "<tr><td>H2O_cluster_total_nodes:</td>\n",
              "<td>1</td></tr>\n",
              "<tr><td>H2O_cluster_free_memory:</td>\n",
              "<td>3.172 Gb</td></tr>\n",
              "<tr><td>H2O_cluster_total_cores:</td>\n",
              "<td>2</td></tr>\n",
              "<tr><td>H2O_cluster_allowed_cores:</td>\n",
              "<td>2</td></tr>\n",
              "<tr><td>H2O_cluster_status:</td>\n",
              "<td>locked, healthy</td></tr>\n",
              "<tr><td>H2O_connection_url:</td>\n",
              "<td>http://127.0.0.1:54321</td></tr>\n",
              "<tr><td>H2O_connection_proxy:</td>\n",
              "<td>{\"http\": null, \"https\": null}</td></tr>\n",
              "<tr><td>H2O_internal_security:</td>\n",
              "<td>False</td></tr>\n",
              "<tr><td>Python_version:</td>\n",
              "<td>3.7.13 final</td></tr></table></div>"
            ]
          },
          "metadata": {}
        }
      ],
      "source": [
        "## Initialise the thread\n",
        "h2o.init(nthreads = -1)"
      ]
    },
    {
      "cell_type": "code",
      "execution_count": 18,
      "metadata": {
        "colab": {
          "base_uri": "https://localhost:8080/"
        },
        "id": "47d8b25kgr2C",
        "outputId": "690fdea9-0438-4281-ebdb-83bdd8d79760"
      },
      "outputs": [
        {
          "output_type": "stream",
          "name": "stdout",
          "text": [
            "Parse progress: |████████████████████████████████████████████████████████████████| (done) 100%\n",
            "Parse progress: |████████████████████████████████████████████████████████████████| (done) 100%\n"
          ]
        }
      ],
      "source": [
        "train_hf = h2o.H2OFrame(train)\n",
        "test_hf = h2o.H2OFrame(test) \n",
        "\n",
        "# For binary classification, response should be a factor\n",
        "train_hf['went_on_backorder'] = train_hf['went_on_backorder'].asfactor()\n",
        "test_hf['went_on_backorder'] = test_hf['went_on_backorder'].asfactor()"
      ]
    },
    {
      "cell_type": "code",
      "execution_count": 19,
      "metadata": {
        "colab": {
          "base_uri": "https://localhost:8080/",
          "height": 269
        },
        "id": "6mDPlcOem3cB",
        "outputId": "70a7ba48-7786-4fe4-b2a3-ad3149e8c3ec"
      },
      "outputs": [
        {
          "output_type": "display_data",
          "data": {
            "text/html": [
              "<table>\n",
              "<thead>\n",
              "<tr><th style=\"text-align: right;\">  national_inv</th><th style=\"text-align: right;\">  lead_time</th><th style=\"text-align: right;\">  in_transit_qty</th><th style=\"text-align: right;\">  forecast_3_month</th><th style=\"text-align: right;\">  forecast_6_month</th><th style=\"text-align: right;\">  forecast_9_month</th><th style=\"text-align: right;\">  sales_1_month</th><th style=\"text-align: right;\">  sales_3_month</th><th style=\"text-align: right;\">  sales_6_month</th><th style=\"text-align: right;\">  sales_9_month</th><th style=\"text-align: right;\">  min_bank</th><th style=\"text-align: right;\">  potential_issue</th><th style=\"text-align: right;\">  pieces_past_due</th><th style=\"text-align: right;\">  perf_6_month_avg</th><th style=\"text-align: right;\">  perf_12_month_avg</th><th style=\"text-align: right;\">  local_bo_qty</th><th style=\"text-align: right;\">  deck_risk</th><th style=\"text-align: right;\">  oe_constraint</th><th style=\"text-align: right;\">  ppap_risk</th><th style=\"text-align: right;\">  stop_auto_buy</th><th style=\"text-align: right;\">  rev_stop</th><th style=\"text-align: right;\">  went_on_backorder</th></tr>\n",
              "</thead>\n",
              "<tbody>\n",
              "<tr><td style=\"text-align: right;\">             0</td><td style=\"text-align: right;\">    7.87227</td><td style=\"text-align: right;\">               0</td><td style=\"text-align: right;\">                 0</td><td style=\"text-align: right;\">                 0</td><td style=\"text-align: right;\">                 0</td><td style=\"text-align: right;\">              0</td><td style=\"text-align: right;\">              0</td><td style=\"text-align: right;\">              0</td><td style=\"text-align: right;\">              0</td><td style=\"text-align: right;\">         0</td><td style=\"text-align: right;\">                0</td><td style=\"text-align: right;\">                0</td><td style=\"text-align: right;\">              0.85</td><td style=\"text-align: right;\">               0.83</td><td style=\"text-align: right;\">             0</td><td style=\"text-align: right;\">          0</td><td style=\"text-align: right;\">              0</td><td style=\"text-align: right;\">          0</td><td style=\"text-align: right;\">              0</td><td style=\"text-align: right;\">         0</td><td style=\"text-align: right;\">                  0</td></tr>\n",
              "<tr><td style=\"text-align: right;\">             2</td><td style=\"text-align: right;\">    9      </td><td style=\"text-align: right;\">               0</td><td style=\"text-align: right;\">                 0</td><td style=\"text-align: right;\">                 0</td><td style=\"text-align: right;\">                 0</td><td style=\"text-align: right;\">              0</td><td style=\"text-align: right;\">              0</td><td style=\"text-align: right;\">              0</td><td style=\"text-align: right;\">              0</td><td style=\"text-align: right;\">         0</td><td style=\"text-align: right;\">                0</td><td style=\"text-align: right;\">                0</td><td style=\"text-align: right;\">              0.99</td><td style=\"text-align: right;\">               0.99</td><td style=\"text-align: right;\">             0</td><td style=\"text-align: right;\">          0</td><td style=\"text-align: right;\">              0</td><td style=\"text-align: right;\">          0</td><td style=\"text-align: right;\">              0</td><td style=\"text-align: right;\">         0</td><td style=\"text-align: right;\">                  0</td></tr>\n",
              "<tr><td style=\"text-align: right;\">             2</td><td style=\"text-align: right;\">    7.87227</td><td style=\"text-align: right;\">               0</td><td style=\"text-align: right;\">                 0</td><td style=\"text-align: right;\">                 0</td><td style=\"text-align: right;\">                 0</td><td style=\"text-align: right;\">              0</td><td style=\"text-align: right;\">              0</td><td style=\"text-align: right;\">              0</td><td style=\"text-align: right;\">              0</td><td style=\"text-align: right;\">         0</td><td style=\"text-align: right;\">                0</td><td style=\"text-align: right;\">                0</td><td style=\"text-align: right;\">              0.85</td><td style=\"text-align: right;\">               0.83</td><td style=\"text-align: right;\">             0</td><td style=\"text-align: right;\">          1</td><td style=\"text-align: right;\">              0</td><td style=\"text-align: right;\">          0</td><td style=\"text-align: right;\">              0</td><td style=\"text-align: right;\">         0</td><td style=\"text-align: right;\">                  0</td></tr>\n",
              "<tr><td style=\"text-align: right;\">             7</td><td style=\"text-align: right;\">    8      </td><td style=\"text-align: right;\">               0</td><td style=\"text-align: right;\">                 0</td><td style=\"text-align: right;\">                 0</td><td style=\"text-align: right;\">                 0</td><td style=\"text-align: right;\">              0</td><td style=\"text-align: right;\">              0</td><td style=\"text-align: right;\">              0</td><td style=\"text-align: right;\">              0</td><td style=\"text-align: right;\">         1</td><td style=\"text-align: right;\">                0</td><td style=\"text-align: right;\">                0</td><td style=\"text-align: right;\">              0.1 </td><td style=\"text-align: right;\">               0.13</td><td style=\"text-align: right;\">             0</td><td style=\"text-align: right;\">          0</td><td style=\"text-align: right;\">              0</td><td style=\"text-align: right;\">          0</td><td style=\"text-align: right;\">              0</td><td style=\"text-align: right;\">         0</td><td style=\"text-align: right;\">                  0</td></tr>\n",
              "<tr><td style=\"text-align: right;\">             8</td><td style=\"text-align: right;\">    7.87227</td><td style=\"text-align: right;\">               0</td><td style=\"text-align: right;\">                 0</td><td style=\"text-align: right;\">                 0</td><td style=\"text-align: right;\">                 0</td><td style=\"text-align: right;\">              0</td><td style=\"text-align: right;\">              0</td><td style=\"text-align: right;\">              0</td><td style=\"text-align: right;\">              4</td><td style=\"text-align: right;\">         2</td><td style=\"text-align: right;\">                0</td><td style=\"text-align: right;\">                0</td><td style=\"text-align: right;\">              0.85</td><td style=\"text-align: right;\">               0.83</td><td style=\"text-align: right;\">             0</td><td style=\"text-align: right;\">          1</td><td style=\"text-align: right;\">              0</td><td style=\"text-align: right;\">          0</td><td style=\"text-align: right;\">              0</td><td style=\"text-align: right;\">         0</td><td style=\"text-align: right;\">                  0</td></tr>\n",
              "<tr><td style=\"text-align: right;\">            13</td><td style=\"text-align: right;\">    8      </td><td style=\"text-align: right;\">               0</td><td style=\"text-align: right;\">                 0</td><td style=\"text-align: right;\">                 0</td><td style=\"text-align: right;\">                 0</td><td style=\"text-align: right;\">              0</td><td style=\"text-align: right;\">              0</td><td style=\"text-align: right;\">              0</td><td style=\"text-align: right;\">              0</td><td style=\"text-align: right;\">         0</td><td style=\"text-align: right;\">                0</td><td style=\"text-align: right;\">                0</td><td style=\"text-align: right;\">              0.82</td><td style=\"text-align: right;\">               0.87</td><td style=\"text-align: right;\">             0</td><td style=\"text-align: right;\">          0</td><td style=\"text-align: right;\">              0</td><td style=\"text-align: right;\">          0</td><td style=\"text-align: right;\">              0</td><td style=\"text-align: right;\">         0</td><td style=\"text-align: right;\">                  0</td></tr>\n",
              "<tr><td style=\"text-align: right;\">          1095</td><td style=\"text-align: right;\">    7.87227</td><td style=\"text-align: right;\">               0</td><td style=\"text-align: right;\">                 0</td><td style=\"text-align: right;\">                 0</td><td style=\"text-align: right;\">                 0</td><td style=\"text-align: right;\">              0</td><td style=\"text-align: right;\">              0</td><td style=\"text-align: right;\">              0</td><td style=\"text-align: right;\">              0</td><td style=\"text-align: right;\">         4</td><td style=\"text-align: right;\">                0</td><td style=\"text-align: right;\">                0</td><td style=\"text-align: right;\">              0.85</td><td style=\"text-align: right;\">               0.83</td><td style=\"text-align: right;\">             0</td><td style=\"text-align: right;\">          1</td><td style=\"text-align: right;\">              0</td><td style=\"text-align: right;\">          0</td><td style=\"text-align: right;\">              0</td><td style=\"text-align: right;\">         0</td><td style=\"text-align: right;\">                  0</td></tr>\n",
              "<tr><td style=\"text-align: right;\">             6</td><td style=\"text-align: right;\">    2      </td><td style=\"text-align: right;\">               0</td><td style=\"text-align: right;\">                 0</td><td style=\"text-align: right;\">                 0</td><td style=\"text-align: right;\">                 0</td><td style=\"text-align: right;\">              0</td><td style=\"text-align: right;\">              0</td><td style=\"text-align: right;\">              0</td><td style=\"text-align: right;\">              0</td><td style=\"text-align: right;\">         0</td><td style=\"text-align: right;\">                0</td><td style=\"text-align: right;\">                0</td><td style=\"text-align: right;\">              0   </td><td style=\"text-align: right;\">               0   </td><td style=\"text-align: right;\">             0</td><td style=\"text-align: right;\">          1</td><td style=\"text-align: right;\">              0</td><td style=\"text-align: right;\">          1</td><td style=\"text-align: right;\">              0</td><td style=\"text-align: right;\">         0</td><td style=\"text-align: right;\">                  0</td></tr>\n",
              "<tr><td style=\"text-align: right;\">           140</td><td style=\"text-align: right;\">    7.87227</td><td style=\"text-align: right;\">               0</td><td style=\"text-align: right;\">                15</td><td style=\"text-align: right;\">               114</td><td style=\"text-align: right;\">               152</td><td style=\"text-align: right;\">              0</td><td style=\"text-align: right;\">              0</td><td style=\"text-align: right;\">              0</td><td style=\"text-align: right;\">              0</td><td style=\"text-align: right;\">         0</td><td style=\"text-align: right;\">                0</td><td style=\"text-align: right;\">                0</td><td style=\"text-align: right;\">              0.85</td><td style=\"text-align: right;\">               0.83</td><td style=\"text-align: right;\">             0</td><td style=\"text-align: right;\">          0</td><td style=\"text-align: right;\">              0</td><td style=\"text-align: right;\">          0</td><td style=\"text-align: right;\">              0</td><td style=\"text-align: right;\">         0</td><td style=\"text-align: right;\">                  0</td></tr>\n",
              "<tr><td style=\"text-align: right;\">             4</td><td style=\"text-align: right;\">    8      </td><td style=\"text-align: right;\">               0</td><td style=\"text-align: right;\">                 0</td><td style=\"text-align: right;\">                 0</td><td style=\"text-align: right;\">                 0</td><td style=\"text-align: right;\">              0</td><td style=\"text-align: right;\">              0</td><td style=\"text-align: right;\">              0</td><td style=\"text-align: right;\">              0</td><td style=\"text-align: right;\">         0</td><td style=\"text-align: right;\">                0</td><td style=\"text-align: right;\">                0</td><td style=\"text-align: right;\">              0.82</td><td style=\"text-align: right;\">               0.87</td><td style=\"text-align: right;\">             0</td><td style=\"text-align: right;\">          0</td><td style=\"text-align: right;\">              0</td><td style=\"text-align: right;\">          0</td><td style=\"text-align: right;\">              0</td><td style=\"text-align: right;\">         0</td><td style=\"text-align: right;\">                  0</td></tr>\n",
              "</tbody>\n",
              "</table>"
            ]
          },
          "metadata": {}
        },
        {
          "output_type": "execute_result",
          "data": {
            "text/plain": [
              ""
            ]
          },
          "metadata": {},
          "execution_count": 19
        }
      ],
      "source": [
        "train_hf.head()"
      ]
    },
    {
      "cell_type": "code",
      "source": [
        "train_hf.shape"
      ],
      "metadata": {
        "colab": {
          "base_uri": "https://localhost:8080/"
        },
        "id": "eYL74OpdhZid",
        "outputId": "aad937e1-1a1b-4e89-90d1-07b213bcecd2"
      },
      "execution_count": 20,
      "outputs": [
        {
          "output_type": "execute_result",
          "data": {
            "text/plain": [
              "(1687860, 22)"
            ]
          },
          "metadata": {},
          "execution_count": 20
        }
      ]
    },
    {
      "cell_type": "code",
      "source": [
        "test_hf.shape"
      ],
      "metadata": {
        "colab": {
          "base_uri": "https://localhost:8080/"
        },
        "id": "1Oq1EUj8nRi3",
        "outputId": "9023943e-cebd-4c38-a5fd-f54cbb7db791"
      },
      "execution_count": 21,
      "outputs": [
        {
          "output_type": "execute_result",
          "data": {
            "text/plain": [
              "(242075, 22)"
            ]
          },
          "metadata": {},
          "execution_count": 21
        }
      ]
    },
    {
      "cell_type": "code",
      "execution_count": 22,
      "metadata": {
        "id": "46JCy6Sxm3g9"
      },
      "outputs": [],
      "source": [
        "## Split Dataset - Target is true (all backorder ) as 'test' and non backorder as 'train'  \n",
        "\n",
        "X_test_en  = train_hf[train_hf['went_on_backorder'] == '1']\n",
        "X_train_en = train_hf[train_hf['went_on_backorder'] == '0']"
      ]
    },
    {
      "cell_type": "code",
      "execution_count": 23,
      "metadata": {
        "id": "7cQz7JB9gr4o"
      },
      "outputs": [],
      "source": [
        "X_test_en.shape\n",
        "X_train_en.shape\n",
        "X= list(range(0,22))\n",
        "#X= list(range(0,11))"
      ]
    },
    {
      "cell_type": "code",
      "source": [
        "#hiddenOpt = [[50,50],[100,100], [5,5,5],[50,50,50]]\n",
        "#l2Opt = [1e-4,1e-2]\n",
        "#hyperParameters = {\"hidden\":hiddenOpt, \"l2\":l2Opt}\n",
        "#bestModel=tuneAndTrain(hyperParameters,H2OAutoEncoderEstimator(activation=\"Tanh\", ignore_const_cols=False, epochs=200),dataFrameTrainPreprocessed)"
      ],
      "metadata": {
        "id": "bSa8hE-e9RrH"
      },
      "execution_count": 24,
      "outputs": []
    },
    {
      "cell_type": "code",
      "execution_count": 25,
      "metadata": {
        "colab": {
          "base_uri": "https://localhost:8080/"
        },
        "id": "rEm15r81f5eF",
        "outputId": "4c05f02f-06aa-4b65-e917-8daf3f17c18d"
      },
      "outputs": [
        {
          "output_type": "stream",
          "name": "stdout",
          "text": [
            "deeplearning Model Build progress: |█████████████████████████████████████████████| (done) 100%\n",
            "MSE =  4.067555073947177e-05\n"
          ]
        }
      ],
      "source": [
        "### Auto Encoder Model\n",
        "model = H2OAutoEncoderEstimator( activation=\"Tanh\",\n",
        "                                          hidden=[50,20,5,20,50],\n",
        "                                          #hidden=[150],\n",
        "                                          ignore_const_cols = False,\n",
        "                                          stopping_metric='mse', \n",
        "                                          stopping_tolerance=0.00001,\n",
        "                                          epochs=200)\n",
        "\n",
        "\n",
        "model.train(x =X, training_frame = X_train_en)\n",
        "\n",
        "\n",
        "print(\"MSE = \",model.mse())"
      ]
    },
    {
      "cell_type": "code",
      "source": [
        "MSE =  1.539292180869766e-05"
      ],
      "metadata": {
        "id": "UmW1QGIPBs-m"
      },
      "execution_count": 26,
      "outputs": []
    },
    {
      "cell_type": "code",
      "execution_count": 27,
      "metadata": {
        "id": "xDmnZ5JLf5g0"
      },
      "outputs": [],
      "source": [
        "## Anomaly Detection"
      ]
    },
    {
      "cell_type": "code",
      "source": [
        "#model.download_mojo(path=\"model/\",get_genmodel_jar=True)"
      ],
      "metadata": {
        "id": "tLvjJyQq_myv"
      },
      "execution_count": 28,
      "outputs": []
    },
    {
      "cell_type": "code",
      "execution_count": 29,
      "metadata": {
        "id": "EJ1deDRDriI4"
      },
      "outputs": [],
      "source": [
        "train_rec_error = model.anomaly(X_train_en)\n",
        "test_rec_error = model.anomaly(X_test_en)\n",
        "\n",
        "train_rec_error = train_rec_error.as_data_frame()\n",
        "train_rec_error['id'] = train_rec_error.index.values + 1\n",
        "train_rec_error['went_on_backorder'] = 0\n",
        "\n",
        "count_train_records = len(train_rec_error) \n",
        "test_rec_error = test_rec_error.as_data_frame()\n",
        "test_rec_error['id'] = test_rec_error.index.values + count_train_records + 1\n",
        "test_rec_error['went_on_backorder'] = 1\n",
        "\n",
        "rec_error = pd.concat([train_rec_error,test_rec_error], axis = 'index')\n",
        "\n"
      ]
    },
    {
      "cell_type": "code",
      "source": [
        "# Plot the Scatter graph\n",
        "\n",
        "sns.lmplot('id', 'Reconstruction.MSE', hue='went_on_backorder', data=rec_error, fit_reg=False);\n",
        "plt.axvline(x=count_train_records,linewidth=1)\n",
        "plt.show()\n"
      ],
      "metadata": {
        "colab": {
          "base_uri": "https://localhost:8080/",
          "height": 361
        },
        "id": "ewqpHST-idIc",
        "outputId": "263c0591-6fe8-41a0-a09b-d076a7323260"
      },
      "execution_count": 30,
      "outputs": [
        {
          "output_type": "display_data",
          "data": {
            "text/plain": [
              "<Figure size 507.075x360 with 1 Axes>"
            ],
            "image/png": "[encoded data removed]"
          },
          "metadata": {
            "needs_background": "light"
          }
        }
      ]
    },
    {
      "cell_type": "code",
      "source": [
        "\n",
        "rec_error[rec_error['went_on_backorder'] == 1].plot(kind='scatter', x='id', y='Reconstruction.MSE',c='red',marker='x', label='Back-Order')\n",
        "rec_error[rec_error['went_on_backorder'] == 0].plot(kind='scatter', x='id', y='Reconstruction.MSE',c='blue',marker='o', label='Normal Order')\n",
        "plt.legend(loc='upper right')\n",
        "plt.show()"
      ],
      "metadata": {
        "colab": {
          "base_uri": "https://localhost:8080/",
          "height": 557
        },
        "id": "XNGwc57eimjF",
        "outputId": "83a1f66c-5df7-44e8-b2c3-7e232a4adfbc"
      },
      "execution_count": 31,
      "outputs": [
        {
          "output_type": "display_data",
          "data": {
            "text/plain": [
              "<Figure size 432x288 with 1 Axes>"
            ],
            "image/png": "[encoded data removed]"
          },
          "metadata": {
            "needs_background": "light"
          }
        },
        {
          "output_type": "display_data",
          "data": {
            "text/plain": [
              "<Figure size 432x288 with 1 Axes>"
            ],
            "image/png": "[encoded data removed]"
          },
          "metadata": {
            "needs_background": "light"
          }
        }
      ]
    },
    {
      "cell_type": "code",
      "execution_count": 32,
      "metadata": {
        "colab": {
          "base_uri": "https://localhost:8080/"
        },
        "id": "K91hkd_9riOy",
        "outputId": "28c01f9a-126d-4e70-c1e8-5eeded762217"
      },
      "outputs": [
        {
          "output_type": "stream",
          "name": "stdout",
          "text": [
            "Predicted       0     1     All\n",
            "Actual                         \n",
            "0          239383     4  239387\n",
            "1               8  2680    2688\n",
            "All        239391  2684  242075\n",
            "---------------------------------------------------------------------------\n",
            "\n",
            " % \n",
            "\n",
            "Predicted          0          1\n",
            "True                           \n",
            "0          99.996658   0.149031\n",
            "1           0.003342  99.850969\n"
          ]
        }
      ],
      "source": [
        "rec_error_hf = model.anomaly(test_hf)\n",
        "rec_error_hf['actual'] = test_hf['went_on_backorder']\n",
        "rec_error_hf = rec_error_hf.as_data_frame()\n",
        "rec_error_hf['id'] = rec_error_hf.index.values\n",
        "rec_error_hf['predict'] = 0\n",
        "\n",
        "#predict = [1 if e > threshold else 0 for e in rec_error_fh.reconstruction_error.values]\n",
        "\n",
        "rec_error_hf['predict'][(rec_error_hf['Reconstruction.MSE']>0.08) & (rec_error_hf['Reconstruction.MSE'] <0.12)] = 1\n",
        "\n",
        "\n",
        "df_confusion = pd.crosstab(rec_error_hf['actual'], rec_error_hf['predict'], rownames=['Actual'], colnames=['Predicted'], margins=True)\n",
        "print(df_confusion)\n",
        "print(\"---\"*25)\n",
        "print(\"\\n % \\n\")\n",
        "print(pd.crosstab(rec_error_hf['actual'], rec_error_hf['predict'], rownames=['True'], colnames=['Predicted']).apply(lambda r: 100.0 * r/r.sum()))"
      ]
    },
    {
      "cell_type": "code",
      "execution_count": 33,
      "metadata": {
        "id": "K18BUU4BtqGn",
        "colab": {
          "base_uri": "https://localhost:8080/",
          "height": 525
        },
        "outputId": "55133f50-67ca-4019-c626-c2f5c074a11d"
      },
      "outputs": [
        {
          "output_type": "display_data",
          "data": {
            "text/plain": [
              "<Figure size 720x576 with 2 Axes>"
            ],
            "image/png": "[encoded data removed]"
          },
          "metadata": {
            "needs_background": "light"
          }
        }
      ],
      "source": [
        "from sklearn.metrics import confusion_matrix\n",
        "\n",
        "LABELS = LABELS = ['Normal Order', 'Back-Order']\n",
        "conf_matrix = confusion_matrix(rec_error_hf['actual'], rec_error_hf['predict'])\n",
        "plt.figure(figsize=(10, 8))\n",
        "sns.heatmap(conf_matrix, xticklabels=LABELS, yticklabels=LABELS, annot=True, fmt=\"d\");\n",
        "plt.title(\"Confusion matrix\")\n",
        "plt.ylabel('True class')\n",
        "plt.xlabel('Predicted class')\n",
        "plt.show()"
      ]
    },
    {
      "cell_type": "code",
      "execution_count": 34,
      "metadata": {
        "id": "eb5TuxUJtqJb"
      },
      "outputs": [],
      "source": [
        "from sklearn.metrics import average_precision_score, roc_auc_score, roc_curve, auc\n",
        "def roc_curve_acc(Y_test, Y_pred, method):\n",
        "    false_positive_rate, true_positive_rate, thresholds = roc_curve(Y_test, Y_pred)\n",
        "    roc_auc = auc(false_positive_rate, true_positive_rate)\n",
        "    plt.title('Receiver Operating Characteristic')\n",
        "    plt.plot(false_positive_rate, true_positive_rate, color='cyan' ,label='%s AUC = %0.3f'% (method, roc_auc))\n",
        "    plt.legend(loc = 'upper left')\n",
        "    plt.plot([0,1],[0,1],'r--')\n",
        "    plt.xlim([-0.1,1.2])\n",
        "    plt.ylim([-0.1,1.2])\n",
        "    plt.ylabel('True Positive Rate')\n",
        "    plt.xlabel('False Positive Rate')"
      ]
    },
    {
      "cell_type": "code",
      "execution_count": 35,
      "metadata": {
        "id": "i5BS22_YtqNH",
        "colab": {
          "base_uri": "https://localhost:8080/",
          "height": 307
        },
        "outputId": "5a6e6b04-9267-49c3-de57-b2146336ed9d"
      },
      "outputs": [
        {
          "output_type": "display_data",
          "data": {
            "text/plain": [
              "<Figure size 432x288 with 1 Axes>"
            ],
            "image/png": "[encoded data removed]"
          },
          "metadata": {
            "needs_background": "light"
          }
        }
      ],
      "source": [
        "roc_curve_acc(rec_error_hf['actual'], rec_error_hf['predict'], 'AutoEncoder')"
      ]
    },
    {
      "cell_type": "code",
      "source": [
        "from sklearn.metrics import classification_report\n",
        "print(classification_report(rec_error_hf['actual'], rec_error_hf['predict']))"
      ],
      "metadata": {
        "id": "ukbId_Ds6Ww3",
        "colab": {
          "base_uri": "https://localhost:8080/"
        },
        "outputId": "cd99e900-f7e0-4f94-bb31-958868cd7dc0"
      },
      "execution_count": 36,
      "outputs": [
        {
          "output_type": "stream",
          "name": "stdout",
          "text": [
            "              precision    recall  f1-score   support\n",
            "\n",
            "           0       1.00      1.00      1.00    239387\n",
            "           1       1.00      1.00      1.00      2688\n",
            "\n",
            "    accuracy                           1.00    242075\n",
            "   macro avg       1.00      1.00      1.00    242075\n",
            "weighted avg       1.00      1.00      1.00    242075\n",
            "\n"
          ]
        }
      ]
    },
    {
      "cell_type": "code",
      "source": [
        "  model._model_json['output']['variable_importances'].as_data_frame()"
      ],
      "metadata": {
        "id": "mhyANYGelYZ4",
        "colab": {
          "base_uri": "https://localhost:8080/",
          "height": 802
        },
        "outputId": "200b3f56-a534-4e7e-e759-54394be9937b"
      },
      "execution_count": 37,
      "outputs": [
        {
          "output_type": "execute_result",
          "data": {
            "text/plain": [
              "                         variable  relative_importance  scaled_importance  \\\n",
              "0               perf_12_month_avg             1.000000           1.000000   \n",
              "1                       lead_time             0.959869           0.959869   \n",
              "2                perf_6_month_avg             0.942509           0.942509   \n",
              "3                       ppap_risk             0.602377           0.602377   \n",
              "4                       deck_risk             0.502819           0.502819   \n",
              "5                   stop_auto_buy             0.498933           0.498933   \n",
              "6             went_on_backorder.0             0.365238           0.365238   \n",
              "7             went_on_backorder.1             0.283641           0.283641   \n",
              "8                   sales_9_month             0.266669           0.266669   \n",
              "9                 pieces_past_due             0.266437           0.266437   \n",
              "10                  sales_3_month             0.264466           0.264466   \n",
              "11                 in_transit_qty             0.264183           0.264183   \n",
              "12               forecast_3_month             0.258333           0.258333   \n",
              "13                       min_bank             0.257881           0.257881   \n",
              "14                  sales_1_month             0.250757           0.250757   \n",
              "15                  oe_constraint             0.249321           0.249321   \n",
              "16               forecast_9_month             0.232721           0.232721   \n",
              "17                  sales_6_month             0.228850           0.228850   \n",
              "18                   local_bo_qty             0.226942           0.226942   \n",
              "19                       rev_stop             0.225534           0.225534   \n",
              "20               forecast_6_month             0.218741           0.218741   \n",
              "21                   national_inv             0.201293           0.201293   \n",
              "22                potential_issue             0.171109           0.171109   \n",
              "23  went_on_backorder.missing(NA)             0.000000           0.000000   \n",
              "\n",
              "    percentage  \n",
              "0     0.114434  \n",
              "1     0.109842  \n",
              "2     0.107856  \n",
              "3     0.068933  \n",
              "4     0.057540  \n",
              "5     0.057095  \n",
              "6     0.041796  \n",
              "7     0.032458  \n",
              "8     0.030516  \n",
              "9     0.030490  \n",
              "10    0.030264  \n",
              "11    0.030232  \n",
              "12    0.029562  \n",
              "13    0.029511  \n",
              "14    0.028695  \n",
              "15    0.028531  \n",
              "16    0.026631  \n",
              "17    0.026188  \n",
              "18    0.025970  \n",
              "19    0.025809  \n",
              "20    0.025032  \n",
              "21    0.023035  \n",
              "22    0.019581  \n",
              "23    0.000000  "
            ],
            "text/html": [
              "\n",
              "  <div id=\"df-dc27cc68-d890-4325-9ec4-f94b1e162757\">\n",
              "    <div class=\"colab-df-container\">\n",
              "      <div>\n",
              "<style scoped>\n",
              "    .dataframe tbody tr th:only-of-type {\n",
              "        vertical-align: middle;\n",
              "    }\n",
              "\n",
              "    .dataframe tbody tr th {\n",
              "        vertical-align: top;\n",
              "    }\n",
              "\n",
              "    .dataframe thead th {\n",
              "        text-align: right;\n",
              "    }\n",
              "</style>\n",
              "<table border=\"1\" class=\"dataframe\">\n",
              "  <thead>\n",
              "    <tr style=\"text-align: right;\">\n",
              "      <th></th>\n",
              "      <th>variable</th>\n",
              "      <th>relative_importance</th>\n",
              "      <th>scaled_importance</th>\n",
              "      <th>percentage</th>\n",
              "    </tr>\n",
              "  </thead>\n",
              "  <tbody>\n",
              "    <tr>\n",
              "      <th>0</th>\n",
              "      <td>perf_12_month_avg</td>\n",
              "      <td>1.000000</td>\n",
              "      <td>1.000000</td>\n",
              "      <td>0.114434</td>\n",
              "    </tr>\n",
              "    <tr>\n",
              "      <th>1</th>\n",
              "      <td>lead_time</td>\n",
              "      <td>0.959869</td>\n",
              "      <td>0.959869</td>\n",
              "      <td>0.109842</td>\n",
              "    </tr>\n",
              "    <tr>\n",
              "      <th>2</th>\n",
              "      <td>perf_6_month_avg</td>\n",
              "      <td>0.942509</td>\n",
              "      <td>0.942509</td>\n",
              "      <td>0.107856</td>\n",
              "    </tr>\n",
              "    <tr>\n",
              "      <th>3</th>\n",
              "      <td>ppap_risk</td>\n",
              "      <td>0.602377</td>\n",
              "      <td>0.602377</td>\n",
              "      <td>0.068933</td>\n",
              "    </tr>\n",
              "    <tr>\n",
              "      <th>4</th>\n",
              "      <td>deck_risk</td>\n",
              "      <td>0.502819</td>\n",
              "      <td>0.502819</td>\n",
              "      <td>0.057540</td>\n",
              "    </tr>\n",
              "    <tr>\n",
              "      <th>5</th>\n",
              "      <td>stop_auto_buy</td>\n",
              "      <td>0.498933</td>\n",
              "      <td>0.498933</td>\n",
              "      <td>0.057095</td>\n",
              "    </tr>\n",
              "    <tr>\n",
              "      <th>6</th>\n",
              "      <td>went_on_backorder.0</td>\n",
              "      <td>0.365238</td>\n",
              "      <td>0.365238</td>\n",
              "      <td>0.041796</td>\n",
              "    </tr>\n",
              "    <tr>\n",
              "      <th>7</th>\n",
              "      <td>went_on_backorder.1</td>\n",
              "      <td>0.283641</td>\n",
              "      <td>0.283641</td>\n",
              "      <td>0.032458</td>\n",
              "    </tr>\n",
              "    <tr>\n",
              "      <th>8</th>\n",
              "      <td>sales_9_month</td>\n",
              "      <td>0.266669</td>\n",
              "      <td>0.266669</td>\n",
              "      <td>0.030516</td>\n",
              "    </tr>\n",
              "    <tr>\n",
              "      <th>9</th>\n",
              "      <td>pieces_past_due</td>\n",
              "      <td>0.266437</td>\n",
              "      <td>0.266437</td>\n",
              "      <td>0.030490</td>\n",
              "    </tr>\n",
              "    <tr>\n",
              "      <th>10</th>\n",
              "      <td>sales_3_month</td>\n",
              "      <td>0.264466</td>\n",
              "      <td>0.264466</td>\n",
              "      <td>0.030264</td>\n",
              "    </tr>\n",
              "    <tr>\n",
              "      <th>11</th>\n",
              "      <td>in_transit_qty</td>\n",
              "      <td>0.264183</td>\n",
              "      <td>0.264183</td>\n",
              "      <td>0.030232</td>\n",
              "    </tr>\n",
              "    <tr>\n",
              "      <th>12</th>\n",
              "      <td>forecast_3_month</td>\n",
              "      <td>0.258333</td>\n",
              "      <td>0.258333</td>\n",
              "      <td>0.029562</td>\n",
              "    </tr>\n",
              "    <tr>\n",
              "      <th>13</th>\n",
              "      <td>min_bank</td>\n",
              "      <td>0.257881</td>\n",
              "      <td>0.257881</td>\n",
              "      <td>0.029511</td>\n",
              "    </tr>\n",
              "    <tr>\n",
              "      <th>14</th>\n",
              "      <td>sales_1_month</td>\n",
              "      <td>0.250757</td>\n",
              "      <td>0.250757</td>\n",
              "      <td>0.028695</td>\n",
              "    </tr>\n",
              "    <tr>\n",
              "      <th>15</th>\n",
              "      <td>oe_constraint</td>\n",
              "      <td>0.249321</td>\n",
              "      <td>0.249321</td>\n",
              "      <td>0.028531</td>\n",
              "    </tr>\n",
              "    <tr>\n",
              "      <th>16</th>\n",
              "      <td>forecast_9_month</td>\n",
              "      <td>0.232721</td>\n",
              "      <td>0.232721</td>\n",
              "      <td>0.026631</td>\n",
              "    </tr>\n",
              "    <tr>\n",
              "      <th>17</th>\n",
              "      <td>sales_6_month</td>\n",
              "      <td>0.228850</td>\n",
              "      <td>0.228850</td>\n",
              "      <td>0.026188</td>\n",
              "    </tr>\n",
              "    <tr>\n",
              "      <th>18</th>\n",
              "      <td>local_bo_qty</td>\n",
              "      <td>0.226942</td>\n",
              "      <td>0.226942</td>\n",
              "      <td>0.025970</td>\n",
              "    </tr>\n",
              "    <tr>\n",
              "      <th>19</th>\n",
              "      <td>rev_stop</td>\n",
              "      <td>0.225534</td>\n",
              "      <td>0.225534</td>\n",
              "      <td>0.025809</td>\n",
              "    </tr>\n",
              "    <tr>\n",
              "      <th>20</th>\n",
              "      <td>forecast_6_month</td>\n",
              "      <td>0.218741</td>\n",
              "      <td>0.218741</td>\n",
              "      <td>0.025032</td>\n",
              "    </tr>\n",
              "    <tr>\n",
              "      <th>21</th>\n",
              "      <td>national_inv</td>\n",
              "      <td>0.201293</td>\n",
              "      <td>0.201293</td>\n",
              "      <td>0.023035</td>\n",
              "    </tr>\n",
              "    <tr>\n",
              "      <th>22</th>\n",
              "      <td>potential_issue</td>\n",
              "      <td>0.171109</td>\n",
              "      <td>0.171109</td>\n",
              "      <td>0.019581</td>\n",
              "    </tr>\n",
              "    <tr>\n",
              "      <th>23</th>\n",
              "      <td>went_on_backorder.missing(NA)</td>\n",
              "      <td>0.000000</td>\n",
              "      <td>0.000000</td>\n",
              "      <td>0.000000</td>\n",
              "    </tr>\n",
              "  </tbody>\n",
              "</table>\n",
              "</div>\n",
              "      <button class=\"colab-df-convert\" onclick=\"convertToInteractive('df-dc27cc68-d890-4325-9ec4-f94b1e162757')\"\n",
              "              title=\"Convert this dataframe to an interactive table.\"\n",
              "              style=\"display:none;\">\n",
              "        \n",
              "  <svg xmlns=\"http://www.w3.org/2000/svg\" height=\"24px\"viewBox=\"0 0 24 24\"\n",
              "       width=\"24px\">\n",
              "    <path d=\"M0 0h24v24H0V0z\" fill=\"none\"/>\n",
              "    <path d=\"M18.56 5.44l.94 2.06.94-2.06 2.06-.94-2.06-.94-.94-2.06-.94 2.06-2.06.94zm-11 1L8.5 8.5l.94-2.06 2.06-.94-2.06-.94L8.5 2.5l-.94 2.06-2.06.94zm10 10l.94 2.06.94-2.06 2.06-.94-2.06-.94-.94-2.06-.94 2.06-2.06.94z\"/><path d=\"M17.41 7.96l-1.37-1.37c-.4-.4-.92-.59-1.43-.59-.52 0-1.04.2-1.43.59L10.3 9.45l-7.72 7.72c-.78.78-.78 2.05 0 2.83L4 21.41c.39.39.9.59 1.41.59.51 0 1.02-.2 1.41-.59l7.78-7.78 2.81-2.81c.8-.78.8-2.07 0-2.86zM5.41 20L4 18.59l7.72-7.72 1.47 1.35L5.41 20z\"/>\n",
              "  </svg>\n",
              "      </button>\n",
              "      \n",
              "  <style>\n",
              "    .colab-df-container {\n",
              "      display:flex;\n",
              "      flex-wrap:wrap;\n",
              "      gap: 12px;\n",
              "    }\n",
              "\n",
              "    .colab-df-convert {\n",
              "      background-color: #E8F0FE;\n",
              "      border: none;\n",
              "      border-radius: 50%;\n",
              "      cursor: pointer;\n",
              "      display: none;\n",
              "      fill: #1967D2;\n",
              "      height: 32px;\n",
              "      padding: 0 0 0 0;\n",
              "      width: 32px;\n",
              "    }\n",
              "\n",
              "    .colab-df-convert:hover {\n",
              "      background-color: #E2EBFA;\n",
              "      box-shadow: 0px 1px 2px rgba(60, 64, 67, 0.3), 0px 1px 3px 1px rgba(60, 64, 67, 0.15);\n",
              "      fill: #174EA6;\n",
              "    }\n",
              "\n",
              "    [theme=dark] .colab-df-convert {\n",
              "      background-color: #3B4455;\n",
              "      fill: #D2E3FC;\n",
              "    }\n",
              "\n",
              "    [theme=dark] .colab-df-convert:hover {\n",
              "      background-color: #434B5C;\n",
              "      box-shadow: 0px 1px 3px 1px rgba(0, 0, 0, 0.15);\n",
              "      filter: drop-shadow(0px 1px 2px rgba(0, 0, 0, 0.3));\n",
              "      fill: #FFFFFF;\n",
              "    }\n",
              "  </style>\n",
              "\n",
              "      <script>\n",
              "        const buttonEl =\n",
              "          document.querySelector('#df-dc27cc68-d890-4325-9ec4-f94b1e162757 button.colab-df-convert');\n",
              "        buttonEl.style.display =\n",
              "          google.colab.kernel.accessAllowed ? 'block' : 'none';\n",
              "\n",
              "        async function convertToInteractive(key) {\n",
              "          const element = document.querySelector('#df-dc27cc68-d890-4325-9ec4-f94b1e162757');\n",
              "          const dataTable =\n",
              "            await google.colab.kernel.invokeFunction('convertToInteractive',\n",
              "                                                     [key], {});\n",
              "          if (!dataTable) return;\n",
              "\n",
              "          const docLinkHtml = 'Like what you see? Visit the ' +\n",
              "            '<a target=\"_blank\" href=https://colab.research.google.com/notebooks/data_table.ipynb>data table notebook</a>'\n",
              "            + ' to learn more about interactive tables.';\n",
              "          element.innerHTML = '';\n",
              "          dataTable['output_type'] = 'display_data';\n",
              "          await google.colab.output.renderOutput(dataTable, element);\n",
              "          const docLink = document.createElement('div');\n",
              "          docLink.innerHTML = docLinkHtml;\n",
              "          element.appendChild(docLink);\n",
              "        }\n",
              "      </script>\n",
              "    </div>\n",
              "  </div>\n",
              "  "
            ]
          },
          "metadata": {},
          "execution_count": 37
        }
      ]
    },
    {
      "cell_type": "code",
      "source": [
        " # plotting the variable importance\n",
        "from pylab import rcParams\n",
        "rcParams['figure.figsize'] = 14, 8\n",
        "#plt.rcdefaults()\n",
        "fig, ax = plt.subplots()\n",
        "\n",
        "variables = model._model_json['output']['variable_importances']['variable']\n",
        "var = variables[0:15]\n",
        "y_pos = np.arange(len(var))\n",
        "\n",
        "scaled_importance = model._model_json['output']['variable_importances']['scaled_importance']\n",
        "sc = scaled_importance[0:15]\n",
        "\n",
        "ax.barh(y_pos, sc, align='center', color='green', ecolor='black')\n",
        "ax.set_yticks(y_pos)\n",
        "ax.set_yticklabels(variables)\n",
        "ax.invert_yaxis()\n",
        "ax.set_xlabel('Scaled Importance')\n",
        "ax.set_title('Variable Importance')\n",
        "plt.show()"
      ],
      "metadata": {
        "id": "UuLUYcbvlYcR",
        "colab": {
          "base_uri": "https://localhost:8080/",
          "height": 525
        },
        "outputId": "cea0333c-c41f-4594-8e24-58bcf6110eaa"
      },
      "execution_count": 38,
      "outputs": [
        {
          "output_type": "display_data",
          "data": {
            "text/plain": [
              "<Figure size 1008x576 with 1 Axes>"
            ],
            "image/png": "[encoded data removed]"
          },
          "metadata": {
            "needs_background": "light"
          }
        }
      ]
    },
    {
      "cell_type": "code",
      "source": [
        "    # plotting the loss\n",
        "    scoring_history = model.score_history()\n",
        "    %matplotlib inline\n",
        "    rcParams['figure.figsize'] = 14, 8\n",
        "    plt.plot(scoring_history['training_mse'])\n",
        "    #plt.plot(scoring_history['validation_mse'])\n",
        "    plt.title('model loss')\n",
        "    plt.ylabel('loss')\n",
        "    plt.xlabel('epoch')"
      ],
      "metadata": {
        "id": "4Q22H4BqlYfL",
        "colab": {
          "base_uri": "https://localhost:8080/",
          "height": 530
        },
        "outputId": "e5841ad0-a201-43a6-f1fc-728354c3e1ca"
      },
      "execution_count": 39,
      "outputs": [
        {
          "output_type": "execute_result",
          "data": {
            "text/plain": [
              "Text(0.5, 0, 'epoch')"
            ]
          },
          "metadata": {},
          "execution_count": 39
        },
        {
          "output_type": "display_data",
          "data": {
            "text/plain": [
              "<Figure size 1008x576 with 1 Axes>"
            ],
            "image/png": "[encoded data removed]"
          },
          "metadata": {
            "needs_background": "light"
          }
        }
      ]
    },
    {
      "cell_type": "code",
      "source": [
        "X_test.head()"
      ],
      "metadata": {
        "colab": {
          "base_uri": "https://localhost:8080/",
          "height": 299
        },
        "id": "ArVAwqC4gLXJ",
        "outputId": "7d208275-6a34-43b9-90d8-40a0c4b530a1"
      },
      "execution_count": 42,
      "outputs": [
        {
          "output_type": "execute_result",
          "data": {
            "text/plain": [
              "   national_inv  lead_time  in_transit_qty  forecast_3_month  \\\n",
              "0          62.0   7.923018             0.0               0.0   \n",
              "1           9.0   7.923018             0.0               0.0   \n",
              "2          17.0   8.000000             0.0               0.0   \n",
              "3           9.0   2.000000             0.0               0.0   \n",
              "4           2.0   8.000000             0.0               0.0   \n",
              "\n",
              "   forecast_6_month  forecast_9_month  sales_1_month  sales_3_month  \\\n",
              "0               0.0               0.0            0.0            0.0   \n",
              "1               0.0               0.0            0.0            0.0   \n",
              "2               0.0               0.0            0.0            0.0   \n",
              "3               0.0               0.0            0.0            0.0   \n",
              "4               0.0               0.0            0.0            0.0   \n",
              "\n",
              "   sales_6_month  sales_9_month  ...  potential_issue  pieces_past_due  \\\n",
              "0            0.0            0.0  ...                0              0.0   \n",
              "1            0.0            0.0  ...                0              0.0   \n",
              "2            0.0            0.0  ...                0              0.0   \n",
              "3            0.0            2.0  ...                0              0.0   \n",
              "4            0.0            0.0  ...                0              0.0   \n",
              "\n",
              "   perf_6_month_avg  perf_12_month_avg  local_bo_qty  deck_risk  \\\n",
              "0              0.85               0.83           0.0          0   \n",
              "1              0.85               0.83           0.0          1   \n",
              "2              0.92               0.95           0.0          1   \n",
              "3              0.78               0.75           0.0          1   \n",
              "4              0.54               0.71           0.0          1   \n",
              "\n",
              "   oe_constraint  ppap_risk  stop_auto_buy  rev_stop  \n",
              "0              0          0              0         0  \n",
              "1              0          1              1         0  \n",
              "2              0          0              0         0  \n",
              "3              0          1              0         0  \n",
              "4              0          0              0         0  \n",
              "\n",
              "[5 rows x 21 columns]"
            ],
            "text/html": [
              "\n",
              "  <div id=\"df-8a88605f-5ff2-48e1-8b9d-e3b996c2a341\">\n",
              "    <div class=\"colab-df-container\">\n",
              "      <div>\n",
              "<style scoped>\n",
              "    .dataframe tbody tr th:only-of-type {\n",
              "        vertical-align: middle;\n",
              "    }\n",
              "\n",
              "    .dataframe tbody tr th {\n",
              "        vertical-align: top;\n",
              "    }\n",
              "\n",
              "    .dataframe thead th {\n",
              "        text-align: right;\n",
              "    }\n",
              "</style>\n",
              "<table border=\"1\" class=\"dataframe\">\n",
              "  <thead>\n",
              "    <tr style=\"text-align: right;\">\n",
              "      <th></th>\n",
              "      <th>national_inv</th>\n",
              "      <th>lead_time</th>\n",
              "      <th>in_transit_qty</th>\n",
              "      <th>forecast_3_month</th>\n",
              "      <th>forecast_6_month</th>\n",
              "      <th>forecast_9_month</th>\n",
              "      <th>sales_1_month</th>\n",
              "      <th>sales_3_month</th>\n",
              "      <th>sales_6_month</th>\n",
              "      <th>sales_9_month</th>\n",
              "      <th>...</th>\n",
              "      <th>potential_issue</th>\n",
              "      <th>pieces_past_due</th>\n",
              "      <th>perf_6_month_avg</th>\n",
              "      <th>perf_12_month_avg</th>\n",
              "      <th>local_bo_qty</th>\n",
              "      <th>deck_risk</th>\n",
              "      <th>oe_constraint</th>\n",
              "      <th>ppap_risk</th>\n",
              "      <th>stop_auto_buy</th>\n",
              "      <th>rev_stop</th>\n",
              "    </tr>\n",
              "  </thead>\n",
              "  <tbody>\n",
              "    <tr>\n",
              "      <th>0</th>\n",
              "      <td>62.0</td>\n",
              "      <td>7.923018</td>\n",
              "      <td>0.0</td>\n",
              "      <td>0.0</td>\n",
              "      <td>0.0</td>\n",
              "      <td>0.0</td>\n",
              "      <td>0.0</td>\n",
              "      <td>0.0</td>\n",
              "      <td>0.0</td>\n",
              "      <td>0.0</td>\n",
              "      <td>...</td>\n",
              "      <td>0</td>\n",
              "      <td>0.0</td>\n",
              "      <td>0.85</td>\n",
              "      <td>0.83</td>\n",
              "      <td>0.0</td>\n",
              "      <td>0</td>\n",
              "      <td>0</td>\n",
              "      <td>0</td>\n",
              "      <td>0</td>\n",
              "      <td>0</td>\n",
              "    </tr>\n",
              "    <tr>\n",
              "      <th>1</th>\n",
              "      <td>9.0</td>\n",
              "      <td>7.923018</td>\n",
              "      <td>0.0</td>\n",
              "      <td>0.0</td>\n",
              "      <td>0.0</td>\n",
              "      <td>0.0</td>\n",
              "      <td>0.0</td>\n",
              "      <td>0.0</td>\n",
              "      <td>0.0</td>\n",
              "      <td>0.0</td>\n",
              "      <td>...</td>\n",
              "      <td>0</td>\n",
              "      <td>0.0</td>\n",
              "      <td>0.85</td>\n",
              "      <td>0.83</td>\n",
              "      <td>0.0</td>\n",
              "      <td>1</td>\n",
              "      <td>0</td>\n",
              "      <td>1</td>\n",
              "      <td>1</td>\n",
              "      <td>0</td>\n",
              "    </tr>\n",
              "    <tr>\n",
              "      <th>2</th>\n",
              "      <td>17.0</td>\n",
              "      <td>8.000000</td>\n",
              "      <td>0.0</td>\n",
              "      <td>0.0</td>\n",
              "      <td>0.0</td>\n",
              "      <td>0.0</td>\n",
              "      <td>0.0</td>\n",
              "      <td>0.0</td>\n",
              "      <td>0.0</td>\n",
              "      <td>0.0</td>\n",
              "      <td>...</td>\n",
              "      <td>0</td>\n",
              "      <td>0.0</td>\n",
              "      <td>0.92</td>\n",
              "      <td>0.95</td>\n",
              "      <td>0.0</td>\n",
              "      <td>1</td>\n",
              "      <td>0</td>\n",
              "      <td>0</td>\n",
              "      <td>0</td>\n",
              "      <td>0</td>\n",
              "    </tr>\n",
              "    <tr>\n",
              "      <th>3</th>\n",
              "      <td>9.0</td>\n",
              "      <td>2.000000</td>\n",
              "      <td>0.0</td>\n",
              "      <td>0.0</td>\n",
              "      <td>0.0</td>\n",
              "      <td>0.0</td>\n",
              "      <td>0.0</td>\n",
              "      <td>0.0</td>\n",
              "      <td>0.0</td>\n",
              "      <td>2.0</td>\n",
              "      <td>...</td>\n",
              "      <td>0</td>\n",
              "      <td>0.0</td>\n",
              "      <td>0.78</td>\n",
              "      <td>0.75</td>\n",
              "      <td>0.0</td>\n",
              "      <td>1</td>\n",
              "      <td>0</td>\n",
              "      <td>1</td>\n",
              "      <td>0</td>\n",
              "      <td>0</td>\n",
              "    </tr>\n",
              "    <tr>\n",
              "      <th>4</th>\n",
              "      <td>2.0</td>\n",
              "      <td>8.000000</td>\n",
              "      <td>0.0</td>\n",
              "      <td>0.0</td>\n",
              "      <td>0.0</td>\n",
              "      <td>0.0</td>\n",
              "      <td>0.0</td>\n",
              "      <td>0.0</td>\n",
              "      <td>0.0</td>\n",
              "      <td>0.0</td>\n",
              "      <td>...</td>\n",
              "      <td>0</td>\n",
              "      <td>0.0</td>\n",
              "      <td>0.54</td>\n",
              "      <td>0.71</td>\n",
              "      <td>0.0</td>\n",
              "      <td>1</td>\n",
              "      <td>0</td>\n",
              "      <td>0</td>\n",
              "      <td>0</td>\n",
              "      <td>0</td>\n",
              "    </tr>\n",
              "  </tbody>\n",
              "</table>\n",
              "<p>5 rows × 21 columns</p>\n",
              "</div>\n",
              "      <button class=\"colab-df-convert\" onclick=\"convertToInteractive('df-8a88605f-5ff2-48e1-8b9d-e3b996c2a341')\"\n",
              "              title=\"Convert this dataframe to an interactive table.\"\n",
              "              style=\"display:none;\">\n",
              "        \n",
              "  <svg xmlns=\"http://www.w3.org/2000/svg\" height=\"24px\"viewBox=\"0 0 24 24\"\n",
              "       width=\"24px\">\n",
              "    <path d=\"M0 0h24v24H0V0z\" fill=\"none\"/>\n",
              "    <path d=\"M18.56 5.44l.94 2.06.94-2.06 2.06-.94-2.06-.94-.94-2.06-.94 2.06-2.06.94zm-11 1L8.5 8.5l.94-2.06 2.06-.94-2.06-.94L8.5 2.5l-.94 2.06-2.06.94zm10 10l.94 2.06.94-2.06 2.06-.94-2.06-.94-.94-2.06-.94 2.06-2.06.94z\"/><path d=\"M17.41 7.96l-1.37-1.37c-.4-.4-.92-.59-1.43-.59-.52 0-1.04.2-1.43.59L10.3 9.45l-7.72 7.72c-.78.78-.78 2.05 0 2.83L4 21.41c.39.39.9.59 1.41.59.51 0 1.02-.2 1.41-.59l7.78-7.78 2.81-2.81c.8-.78.8-2.07 0-2.86zM5.41 20L4 18.59l7.72-7.72 1.47 1.35L5.41 20z\"/>\n",
              "  </svg>\n",
              "      </button>\n",
              "      \n",
              "  <style>\n",
              "    .colab-df-container {\n",
              "      display:flex;\n",
              "      flex-wrap:wrap;\n",
              "      gap: 12px;\n",
              "    }\n",
              "\n",
              "    .colab-df-convert {\n",
              "      background-color: #E8F0FE;\n",
              "      border: none;\n",
              "      border-radius: 50%;\n",
              "      cursor: pointer;\n",
              "      display: none;\n",
              "      fill: #1967D2;\n",
              "      height: 32px;\n",
              "      padding: 0 0 0 0;\n",
              "      width: 32px;\n",
              "    }\n",
              "\n",
              "    .colab-df-convert:hover {\n",
              "      background-color: #E2EBFA;\n",
              "      box-shadow: 0px 1px 2px rgba(60, 64, 67, 0.3), 0px 1px 3px 1px rgba(60, 64, 67, 0.15);\n",
              "      fill: #174EA6;\n",
              "    }\n",
              "\n",
              "    [theme=dark] .colab-df-convert {\n",
              "      background-color: #3B4455;\n",
              "      fill: #D2E3FC;\n",
              "    }\n",
              "\n",
              "    [theme=dark] .colab-df-convert:hover {\n",
              "      background-color: #434B5C;\n",
              "      box-shadow: 0px 1px 3px 1px rgba(0, 0, 0, 0.15);\n",
              "      filter: drop-shadow(0px 1px 2px rgba(0, 0, 0, 0.3));\n",
              "      fill: #FFFFFF;\n",
              "    }\n",
              "  </style>\n",
              "\n",
              "      <script>\n",
              "        const buttonEl =\n",
              "          document.querySelector('#df-8a88605f-5ff2-48e1-8b9d-e3b996c2a341 button.colab-df-convert');\n",
              "        buttonEl.style.display =\n",
              "          google.colab.kernel.accessAllowed ? 'block' : 'none';\n",
              "\n",
              "        async function convertToInteractive(key) {\n",
              "          const element = document.querySelector('#df-8a88605f-5ff2-48e1-8b9d-e3b996c2a341');\n",
              "          const dataTable =\n",
              "            await google.colab.kernel.invokeFunction('convertToInteractive',\n",
              "                                                     [key], {});\n",
              "          if (!dataTable) return;\n",
              "\n",
              "          const docLinkHtml = 'Like what you see? Visit the ' +\n",
              "            '<a target=\"_blank\" href=https://colab.research.google.com/notebooks/data_table.ipynb>data table notebook</a>'\n",
              "            + ' to learn more about interactive tables.';\n",
              "          element.innerHTML = '';\n",
              "          dataTable['output_type'] = 'display_data';\n",
              "          await google.colab.output.renderOutput(dataTable, element);\n",
              "          const docLink = document.createElement('div');\n",
              "          docLink.innerHTML = docLinkHtml;\n",
              "          element.appendChild(docLink);\n",
              "        }\n",
              "      </script>\n",
              "    </div>\n",
              "  </div>\n",
              "  "
            ]
          },
          "metadata": {},
          "execution_count": 42
        }
      ]
    },
    {
      "cell_type": "code",
      "source": [
        "from sklearn.metrics import (confusion_matrix, precision_recall_curve, auc,\n",
        "                                 roc_curve, recall_score, classification_report, f1_score,\n",
        "                                 precision_recall_fscore_support)\n",
        "fpr, tpr, thresholds = roc_curve(rec_error_hf['actual'], rec_error_hf['predict'])\n",
        "roc_auc = auc(fpr, tpr)\n",
        "\n",
        "plt.title('Receiver Operating Characteristic')\n",
        "plt.plot(fpr, tpr, label='AUC = %0.4f'% roc_auc)\n",
        "plt.legend(loc='lower right')\n",
        "plt.plot([0,1],[0,1],'r--')\n",
        "plt.xlim([-0.001, 1])\n",
        "plt.ylim([0, 1.001])\n",
        "plt.ylabel('True Positive Rate')\n",
        "plt.xlabel('False Positive Rate')\n",
        "plt.show();"
      ],
      "metadata": {
        "id": "REYLHrEJwfeA",
        "colab": {
          "base_uri": "https://localhost:8080/",
          "height": 513
        },
        "outputId": "88b79560-b459-413d-aaed-5685d6f852cf"
      },
      "execution_count": 44,
      "outputs": [
        {
          "output_type": "display_data",
          "data": {
            "text/plain": [
              "<Figure size 1008x576 with 1 Axes>"
            ],
            "image/png": "[encoded data removed]"
          },
          "metadata": {
            "needs_background": "light"
          }
        }
      ]
    },
    {
      "cell_type": "code",
      "source": [
        "    from sklearn.metrics import precision_recall_curve, auc\n",
        "    precision, recall, th = precision_recall_curve(rec_error_hf['actual'], rec_error_hf['predict'])\n",
        "    plt.plot(recall, precision, 'b', label='Precision-Recall curve')\n",
        "    pr_re = round(auc(recall, precision),3)\n",
        "    plt.plot(precision, recall, label='PR-AUC = %0.4f'% pr_re)\n",
        "    plt.legend(loc='upper left')\n",
        "    plt.title('PR-AUC Curve')\n",
        "    plt.xlabel('Recall')\n",
        "    plt.ylabel('Precision')\n",
        "    plt.show()"
      ],
      "metadata": {
        "id": "BFkvcuCNwflx",
        "colab": {
          "base_uri": "https://localhost:8080/",
          "height": 513
        },
        "outputId": "bc8538e1-5798-46c1-869c-765f3f3b05f7"
      },
      "execution_count": 45,
      "outputs": [
        {
          "output_type": "display_data",
          "data": {
            "text/plain": [
              "<Figure size 1008x576 with 1 Axes>"
            ],
            "image/png": "[encoded data removed]"
          },
          "metadata": {
            "needs_background": "light"
          }
        }
      ]
    },
    {
      "cell_type": "code",
      "source": [
        "########## final Test######"
      ],
      "metadata": {
        "id": "Vj_R2gjKc5N8"
      },
      "execution_count": 46,
      "outputs": []
    },
    {
      "cell_type": "code",
      "source": [
        "finaltest.drop(columns='sku', inplace=True)\n",
        "finaltest['perf_12_month_avg']=finaltest['perf_12_month_avg'].replace(-99, np.nan)\n",
        "finaltest['perf_6_month_avg']=finaltest['perf_6_month_avg'].replace(-99, np.nan)\n",
        "\n",
        "finaltest['perf_12_month_avg'] = finaltest['perf_12_month_avg'].fillna(test.perf_12_month_avg.median())\n",
        "finaltest['perf_6_month_avg'] = finaltest['perf_6_month_avg'].fillna(test.perf_6_month_avg.median())\n",
        "\n",
        "for col in ['potential_issue',\n",
        "            'deck_risk',\n",
        "            'oe_constraint',\n",
        "            'ppap_risk',\n",
        "            'stop_auto_buy',\n",
        "            'rev_stop',\n",
        "            'went_on_backorder']:    \n",
        "    finaltest[col]=pd.factorize(finaltest[col])[0]\n",
        "\n"
      ],
      "metadata": {
        "id": "AvSmbKilc5Qn"
      },
      "execution_count": 47,
      "outputs": []
    },
    {
      "cell_type": "code",
      "source": [
        "finaltest.head()"
      ],
      "metadata": {
        "colab": {
          "base_uri": "https://localhost:8080/",
          "height": 299
        },
        "id": "Dwgz16GqgcO9",
        "outputId": "cf22b523-95e2-4425-a69a-edcca33128f8"
      },
      "execution_count": 48,
      "outputs": [
        {
          "output_type": "execute_result",
          "data": {
            "text/plain": [
              "   national_inv  lead_time  in_transit_qty  forecast_3_month  \\\n",
              "0            17          8               0                 0   \n",
              "1             9          2               0                 0   \n",
              "2             0          2               0                 4   \n",
              "3             2          2               0                72   \n",
              "4             0          2               0                24   \n",
              "\n",
              "   forecast_6_month  forecast_9_month  sales_1_month  sales_3_month  \\\n",
              "0                 0                 0              0              0   \n",
              "1                 0                 0              0              0   \n",
              "2                 7                 7              0              0   \n",
              "3               144               216             42             56   \n",
              "4                36                48              5             14   \n",
              "\n",
              "   sales_6_month  sales_9_month  ...  pieces_past_due  perf_6_month_avg  \\\n",
              "0              0              0  ...                0              0.92   \n",
              "1              0              2  ...                0              0.78   \n",
              "2              0              0  ...                0              0.70   \n",
              "3             65             80  ...                0              0.99   \n",
              "4             22             31  ...               12              0.13   \n",
              "\n",
              "   perf_12_month_avg  local_bo_qty  deck_risk  oe_constraint  ppap_risk  \\\n",
              "0               0.95             0          0              0          0   \n",
              "1               0.75             0          0              0          1   \n",
              "2               0.73             0          0              0          0   \n",
              "3               0.98             0          1              0          0   \n",
              "4               0.17             0          0              0          0   \n",
              "\n",
              "   stop_auto_buy  rev_stop  went_on_backorder  \n",
              "0              0         0                  0  \n",
              "1              0         0                  0  \n",
              "2              0         0                  1  \n",
              "3              0         0                  1  \n",
              "4              0         0                  1  \n",
              "\n",
              "[5 rows x 22 columns]"
            ],
            "text/html": [
              "\n",
              "  <div id=\"df-601743f1-ef9a-46ea-b89b-1c1a86413623\">\n",
              "    <div class=\"colab-df-container\">\n",
              "      <div>\n",
              "<style scoped>\n",
              "    .dataframe tbody tr th:only-of-type {\n",
              "        vertical-align: middle;\n",
              "    }\n",
              "\n",
              "    .dataframe tbody tr th {\n",
              "        vertical-align: top;\n",
              "    }\n",
              "\n",
              "    .dataframe thead th {\n",
              "        text-align: right;\n",
              "    }\n",
              "</style>\n",
              "<table border=\"1\" class=\"dataframe\">\n",
              "  <thead>\n",
              "    <tr style=\"text-align: right;\">\n",
              "      <th></th>\n",
              "      <th>national_inv</th>\n",
              "      <th>lead_time</th>\n",
              "      <th>in_transit_qty</th>\n",
              "      <th>forecast_3_month</th>\n",
              "      <th>forecast_6_month</th>\n",
              "      <th>forecast_9_month</th>\n",
              "      <th>sales_1_month</th>\n",
              "      <th>sales_3_month</th>\n",
              "      <th>sales_6_month</th>\n",
              "      <th>sales_9_month</th>\n",
              "      <th>...</th>\n",
              "      <th>pieces_past_due</th>\n",
              "      <th>perf_6_month_avg</th>\n",
              "      <th>perf_12_month_avg</th>\n",
              "      <th>local_bo_qty</th>\n",
              "      <th>deck_risk</th>\n",
              "      <th>oe_constraint</th>\n",
              "      <th>ppap_risk</th>\n",
              "      <th>stop_auto_buy</th>\n",
              "      <th>rev_stop</th>\n",
              "      <th>went_on_backorder</th>\n",
              "    </tr>\n",
              "  </thead>\n",
              "  <tbody>\n",
              "    <tr>\n",
              "      <th>0</th>\n",
              "      <td>17</td>\n",
              "      <td>8</td>\n",
              "      <td>0</td>\n",
              "      <td>0</td>\n",
              "      <td>0</td>\n",
              "      <td>0</td>\n",
              "      <td>0</td>\n",
              "      <td>0</td>\n",
              "      <td>0</td>\n",
              "      <td>0</td>\n",
              "      <td>...</td>\n",
              "      <td>0</td>\n",
              "      <td>0.92</td>\n",
              "      <td>0.95</td>\n",
              "      <td>0</td>\n",
              "      <td>0</td>\n",
              "      <td>0</td>\n",
              "      <td>0</td>\n",
              "      <td>0</td>\n",
              "      <td>0</td>\n",
              "      <td>0</td>\n",
              "    </tr>\n",
              "    <tr>\n",
              "      <th>1</th>\n",
              "      <td>9</td>\n",
              "      <td>2</td>\n",
              "      <td>0</td>\n",
              "      <td>0</td>\n",
              "      <td>0</td>\n",
              "      <td>0</td>\n",
              "      <td>0</td>\n",
              "      <td>0</td>\n",
              "      <td>0</td>\n",
              "      <td>2</td>\n",
              "      <td>...</td>\n",
              "      <td>0</td>\n",
              "      <td>0.78</td>\n",
              "      <td>0.75</td>\n",
              "      <td>0</td>\n",
              "      <td>0</td>\n",
              "      <td>0</td>\n",
              "      <td>1</td>\n",
              "      <td>0</td>\n",
              "      <td>0</td>\n",
              "      <td>0</td>\n",
              "    </tr>\n",
              "    <tr>\n",
              "      <th>2</th>\n",
              "      <td>0</td>\n",
              "      <td>2</td>\n",
              "      <td>0</td>\n",
              "      <td>4</td>\n",
              "      <td>7</td>\n",
              "      <td>7</td>\n",
              "      <td>0</td>\n",
              "      <td>0</td>\n",
              "      <td>0</td>\n",
              "      <td>0</td>\n",
              "      <td>...</td>\n",
              "      <td>0</td>\n",
              "      <td>0.70</td>\n",
              "      <td>0.73</td>\n",
              "      <td>0</td>\n",
              "      <td>0</td>\n",
              "      <td>0</td>\n",
              "      <td>0</td>\n",
              "      <td>0</td>\n",
              "      <td>0</td>\n",
              "      <td>1</td>\n",
              "    </tr>\n",
              "    <tr>\n",
              "      <th>3</th>\n",
              "      <td>2</td>\n",
              "      <td>2</td>\n",
              "      <td>0</td>\n",
              "      <td>72</td>\n",
              "      <td>144</td>\n",
              "      <td>216</td>\n",
              "      <td>42</td>\n",
              "      <td>56</td>\n",
              "      <td>65</td>\n",
              "      <td>80</td>\n",
              "      <td>...</td>\n",
              "      <td>0</td>\n",
              "      <td>0.99</td>\n",
              "      <td>0.98</td>\n",
              "      <td>0</td>\n",
              "      <td>1</td>\n",
              "      <td>0</td>\n",
              "      <td>0</td>\n",
              "      <td>0</td>\n",
              "      <td>0</td>\n",
              "      <td>1</td>\n",
              "    </tr>\n",
              "    <tr>\n",
              "      <th>4</th>\n",
              "      <td>0</td>\n",
              "      <td>2</td>\n",
              "      <td>0</td>\n",
              "      <td>24</td>\n",
              "      <td>36</td>\n",
              "      <td>48</td>\n",
              "      <td>5</td>\n",
              "      <td>14</td>\n",
              "      <td>22</td>\n",
              "      <td>31</td>\n",
              "      <td>...</td>\n",
              "      <td>12</td>\n",
              "      <td>0.13</td>\n",
              "      <td>0.17</td>\n",
              "      <td>0</td>\n",
              "      <td>0</td>\n",
              "      <td>0</td>\n",
              "      <td>0</td>\n",
              "      <td>0</td>\n",
              "      <td>0</td>\n",
              "      <td>1</td>\n",
              "    </tr>\n",
              "  </tbody>\n",
              "</table>\n",
              "<p>5 rows × 22 columns</p>\n",
              "</div>\n",
              "      <button class=\"colab-df-convert\" onclick=\"convertToInteractive('df-601743f1-ef9a-46ea-b89b-1c1a86413623')\"\n",
              "              title=\"Convert this dataframe to an interactive table.\"\n",
              "              style=\"display:none;\">\n",
              "        \n",
              "  <svg xmlns=\"http://www.w3.org/2000/svg\" height=\"24px\"viewBox=\"0 0 24 24\"\n",
              "       width=\"24px\">\n",
              "    <path d=\"M0 0h24v24H0V0z\" fill=\"none\"/>\n",
              "    <path d=\"M18.56 5.44l.94 2.06.94-2.06 2.06-.94-2.06-.94-.94-2.06-.94 2.06-2.06.94zm-11 1L8.5 8.5l.94-2.06 2.06-.94-2.06-.94L8.5 2.5l-.94 2.06-2.06.94zm10 10l.94 2.06.94-2.06 2.06-.94-2.06-.94-.94-2.06-.94 2.06-2.06.94z\"/><path d=\"M17.41 7.96l-1.37-1.37c-.4-.4-.92-.59-1.43-.59-.52 0-1.04.2-1.43.59L10.3 9.45l-7.72 7.72c-.78.78-.78 2.05 0 2.83L4 21.41c.39.39.9.59 1.41.59.51 0 1.02-.2 1.41-.59l7.78-7.78 2.81-2.81c.8-.78.8-2.07 0-2.86zM5.41 20L4 18.59l7.72-7.72 1.47 1.35L5.41 20z\"/>\n",
              "  </svg>\n",
              "      </button>\n",
              "      \n",
              "  <style>\n",
              "    .colab-df-container {\n",
              "      display:flex;\n",
              "      flex-wrap:wrap;\n",
              "      gap: 12px;\n",
              "    }\n",
              "\n",
              "    .colab-df-convert {\n",
              "      background-color: #E8F0FE;\n",
              "      border: none;\n",
              "      border-radius: 50%;\n",
              "      cursor: pointer;\n",
              "      display: none;\n",
              "      fill: #1967D2;\n",
              "      height: 32px;\n",
              "      padding: 0 0 0 0;\n",
              "      width: 32px;\n",
              "    }\n",
              "\n",
              "    .colab-df-convert:hover {\n",
              "      background-color: #E2EBFA;\n",
              "      box-shadow: 0px 1px 2px rgba(60, 64, 67, 0.3), 0px 1px 3px 1px rgba(60, 64, 67, 0.15);\n",
              "      fill: #174EA6;\n",
              "    }\n",
              "\n",
              "    [theme=dark] .colab-df-convert {\n",
              "      background-color: #3B4455;\n",
              "      fill: #D2E3FC;\n",
              "    }\n",
              "\n",
              "    [theme=dark] .colab-df-convert:hover {\n",
              "      background-color: #434B5C;\n",
              "      box-shadow: 0px 1px 3px 1px rgba(0, 0, 0, 0.15);\n",
              "      filter: drop-shadow(0px 1px 2px rgba(0, 0, 0, 0.3));\n",
              "      fill: #FFFFFF;\n",
              "    }\n",
              "  </style>\n",
              "\n",
              "      <script>\n",
              "        const buttonEl =\n",
              "          document.querySelector('#df-601743f1-ef9a-46ea-b89b-1c1a86413623 button.colab-df-convert');\n",
              "        buttonEl.style.display =\n",
              "          google.colab.kernel.accessAllowed ? 'block' : 'none';\n",
              "\n",
              "        async function convertToInteractive(key) {\n",
              "          const element = document.querySelector('#df-601743f1-ef9a-46ea-b89b-1c1a86413623');\n",
              "          const dataTable =\n",
              "            await google.colab.kernel.invokeFunction('convertToInteractive',\n",
              "                                                     [key], {});\n",
              "          if (!dataTable) return;\n",
              "\n",
              "          const docLinkHtml = 'Like what you see? Visit the ' +\n",
              "            '<a target=\"_blank\" href=https://colab.research.google.com/notebooks/data_table.ipynb>data table notebook</a>'\n",
              "            + ' to learn more about interactive tables.';\n",
              "          element.innerHTML = '';\n",
              "          dataTable['output_type'] = 'display_data';\n",
              "          await google.colab.output.renderOutput(dataTable, element);\n",
              "          const docLink = document.createElement('div');\n",
              "          docLink.innerHTML = docLinkHtml;\n",
              "          element.appendChild(docLink);\n",
              "        }\n",
              "      </script>\n",
              "    </div>\n",
              "  </div>\n",
              "  "
            ]
          },
          "metadata": {},
          "execution_count": 48
        }
      ]
    },
    {
      "cell_type": "code",
      "source": [
        "## Final test\n",
        "fintest_hf = h2o.H2OFrame(finaltest) \n",
        "\n",
        "# For binary classification, response should be a factor\n",
        "fintest_hf['went_on_backorder'] = fintest_hf['went_on_backorder'].asfactor()\n"
      ],
      "metadata": {
        "colab": {
          "base_uri": "https://localhost:8080/"
        },
        "id": "8Wc5vIuZc5T6",
        "outputId": "17228106-b42a-48d4-d293-cffb2dda4469"
      },
      "execution_count": 49,
      "outputs": [
        {
          "output_type": "stream",
          "name": "stdout",
          "text": [
            "Parse progress: |████████████████████████████████████████████████████████████████| (done) 100%\n"
          ]
        }
      ]
    },
    {
      "cell_type": "code",
      "source": [
        "fin_error_hf = model.anomaly(fintest_hf)\n",
        "fin_error_hf['actual'] = fintest_hf['went_on_backorder']\n",
        "fin_error_hf = fin_error_hf.as_data_frame()\n",
        "fin_error_hf['id'] = fin_error_hf.index.values\n",
        "fin_error_hf['predict'] = 0\n",
        "\n",
        "#predict = [1 if e > threshold else 0 for e in rec_error_fh.reconstruction_error.values]\n",
        "\n",
        "fin_error_hf['predict'][(fin_error_hf['Reconstruction.MSE']>0.08) & (fin_error_hf['Reconstruction.MSE'] <0.12)] = 1\n",
        "\n",
        "df_confusion = pd.crosstab(fin_error_hf['actual'], fin_error_hf['predict'], rownames=['Actual'], colnames=['Predicted'], margins=True)\n",
        "print(df_confusion)\n",
        "print(\"---\"*25)\n",
        "print(\"\\n % \\n\")\n",
        "print(pd.crosstab(fin_error_hf['actual'], fin_error_hf['predict'], rownames=['True'], colnames=['Predicted']).apply(lambda r: 100.0 * r/r.sum()))\n"
      ],
      "metadata": {
        "colab": {
          "base_uri": "https://localhost:8080/"
        },
        "id": "WEJL12f8dEkJ",
        "outputId": "23c313ed-0b08-424a-f8a6-e0639d65aaa2"
      },
      "execution_count": 50,
      "outputs": [
        {
          "output_type": "stream",
          "name": "stdout",
          "text": [
            "Predicted   0   1  All\n",
            "Actual                \n",
            "0          11   0   11\n",
            "1           0  19   19\n",
            "All        11  19   30\n",
            "---------------------------------------------------------------------------\n",
            "\n",
            " % \n",
            "\n",
            "Predicted      0      1\n",
            "True                   \n",
            "0          100.0    0.0\n",
            "1            0.0  100.0\n"
          ]
        }
      ]
    },
    {
      "cell_type": "code",
      "source": [
        "list(fin_error_hf['predict'])"
      ],
      "metadata": {
        "colab": {
          "base_uri": "https://localhost:8080/"
        },
        "id": "IVhb-UeqdEml",
        "outputId": "aae7eb7a-89b3-402b-8468-8666850cf0ee"
      },
      "execution_count": 51,
      "outputs": [
        {
          "output_type": "execute_result",
          "data": {
            "text/plain": [
              "[0,\n",
              " 0,\n",
              " 1,\n",
              " 1,\n",
              " 1,\n",
              " 1,\n",
              " 1,\n",
              " 1,\n",
              " 1,\n",
              " 1,\n",
              " 1,\n",
              " 1,\n",
              " 1,\n",
              " 1,\n",
              " 1,\n",
              " 1,\n",
              " 1,\n",
              " 1,\n",
              " 1,\n",
              " 0,\n",
              " 0,\n",
              " 0,\n",
              " 0,\n",
              " 0,\n",
              " 0,\n",
              " 0,\n",
              " 1,\n",
              " 0,\n",
              " 1,\n",
              " 0]"
            ]
          },
          "metadata": {},
          "execution_count": 51
        }
      ]
    },
    {
      "cell_type": "code",
      "source": [
        ""
      ],
      "metadata": {
        "id": "cNBuPOabdEpQ"
      },
      "execution_count": null,
      "outputs": []
    },
    {
      "cell_type": "code",
      "source": [
        ""
      ],
      "metadata": {
        "id": "KP5_8qKIdErP"
      },
      "execution_count": null,
      "outputs": []
    },
    {
      "cell_type": "code",
      "source": [
        ""
      ],
      "metadata": {
        "id": "f1r_JOcfdEuT"
      },
      "execution_count": null,
      "outputs": []
    }
  ],
  "metadata": {
    "accelerator": "GPU",
    "colab": {
      "collapsed_sections": [],
      "name": "Bachorder AutoEncoder.ipynb",
      "provenance": []
    },
    "kernelspec": {
      "display_name": "Python 3",
      "name": "python3"
    },
    "language_info": {
      "name": "python"
    }
  },
  "nbformat": 4,
  "nbformat_minor": 0
}